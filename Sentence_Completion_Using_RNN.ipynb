{
 "cells": [
  {
   "cell_type": "markdown",
   "metadata": {},
   "source": [
    "# Sentence Completion Using RNN"
   ]
  },
  {
   "cell_type": "markdown",
   "metadata": {},
   "source": [
    "# Opening file with file handling"
   ]
  },
  {
   "cell_type": "code",
   "execution_count": 1,
   "metadata": {},
   "outputs": [],
   "source": [
    "f=open('C:/Users/Shruti/Downloads/sherlock.txt',encoding='utf-8')"
   ]
  },
  {
   "cell_type": "code",
   "execution_count": 2,
   "metadata": {},
   "outputs": [],
   "source": [
    "data=f.read()"
   ]
  },
  {
   "cell_type": "code",
   "execution_count": 3,
   "metadata": {},
   "outputs": [
    {
     "data": {
      "text/plain": [
       "\"\\nProject Gutenberg's The Adventures of Sherlock Holmes, by Arthur Conan Doyle\\n\\nThis eBook is for the use of anyone anywhere at no cost and with\\nalmost no restrictions whatsoever.  You may copy it, give it away or\\nre-use it under the terms of the Project Gutenberg License included\\nwith this eBook or online at www.gutenberg.net\\n\\n\\nTitle: The Adventures of Sherlock Holmes\\n\\nAuthor: Arthur Conan Doyle\\n\\nRelease Date: November 29, 2002 [EBook #1661]\\nLast Updated: May 20, 2019\\n\\nLanguage: English\\n\\nCharacter set encoding: UTF-8\\n\\n*** START OF THIS PROJECT GUTENBERG EBOOK THE ADVENTURES OF SHERLOCK HOLMES ***\\n\\n\\n\\nProduced by an anonymous Project Gutenberg volunteer and Jose Menendez\\n\\n\\n\\ncover\\n\\n\\n\\nThe Adventures of Sherlock Holmes\\n\\n\\n\\nby Arthur Conan Doyle\\n\\n\\n\\nContents\\n\\n\\n   I.     A Scandal in Bohemia\\n   II.    The Red-Headed League\\n   III.   A Case of Identity\\n   IV.    The Boscombe Valley Mystery\\n   V.     The Five Orange Pips\\n   VI.    The Man with the Twisted Lip\\n   VII.   The Adventure of the Blue Carbuncle\\n   VIII.  The Adventure of the Speckled Band\\n   IX.    The Adventure of the Engineer’s Thumb\\n   X.     The Adventure of the Noble Bachelor\\n   XI.    The Adventure of the Beryl Coronet\\n   XII.   The Adventure of the Copper Beeches\\n\\n\\n\\nI. A SCANDAL IN BOHEMIA\\n\\n\\nI.\\n\\nTo Sherlock Holmes she is always _the_ woman. I have seldom heard him\\nmention her under any other name. In his eyes she eclipses and\\npredominates the whole of her sex. It was not that he felt any emotion\\nakin to love for Irene Adler. All emotions, and that one particularly,\\nwere abhorrent to his cold, precise but admirably balanced mind. He\\nwas, I take it, the most perfect reasoning and observing machine that\\nthe world has seen, but as a lover he would have placed himself in a\\nfalse position. He never spoke of the softer passions, save with a gibe\\nand a sneer. They were admirable things for the observer—excellent for\\ndrawing the veil from men’s motives and actions. But for the trained\\nreasoner to admit such intrusions into his own delicate and finely\\nadjusted temperament was to introduce a distracting factor which might\\nthrow a doubt upon all his mental results. Grit in a sensitive\\ninstrument, or a crack in one of his own high-power lenses, would not\\nbe more disturbing than a strong emotion in a nature such as his. And\\nyet there was but one woman to him, and that woman was the late Irene\\nAdler, of dubious and questionable memory.\\n\\nI had seen little of Holmes lately. My marriage had drifted us away\\nfrom each other. My own complete happiness, and the home-centred\\ninterests which rise up around the man who first finds himself master\\nof his own establishment, were sufficient to absorb all my attention,\\nwhile Holmes, who loathed every form of society with his whole Bohemian\\nsoul, remained in our lodgings in Baker Street, buried among his old\\nbooks, and alternating from week to week between cocaine and ambition,\\nthe drowsiness of the drug, and the fierce energy of his own keen\\nnature. He was still, as eve\""
      ]
     },
     "execution_count": 3,
     "metadata": {},
     "output_type": "execute_result"
    }
   ],
   "source": [
    "data[0:3000]"
   ]
  },
  {
   "cell_type": "code",
   "execution_count": 4,
   "metadata": {},
   "outputs": [],
   "source": [
    "data=data[0:3000]\n",
    "#Used Only 3000 words because whole data is taking long time"
   ]
  },
  {
   "cell_type": "markdown",
   "metadata": {},
   "source": [
    "# Removing Special Characters"
   ]
  },
  {
   "cell_type": "code",
   "execution_count": 5,
   "metadata": {},
   "outputs": [],
   "source": [
    "Q=[]\n",
    "import re\n",
    "for i in data.split(' '):\n",
    "    w=re.sub('[^a-zA-Z0-9 ]','',i)\n",
    "    w=w.upper()\n",
    "    if w != '':\n",
    "        Q.append(w)"
   ]
  },
  {
   "cell_type": "markdown",
   "metadata": {},
   "source": [
    "# Creating data for training\n",
    "In 4 words as input and 1 as output format"
   ]
  },
  {
   "cell_type": "code",
   "execution_count": 6,
   "metadata": {},
   "outputs": [],
   "source": [
    "xtr=[]\n",
    "ytr=[]\n",
    "\n",
    "for i in range(4,len(Q),1):\n",
    "    w1=Q[i-4]\n",
    "    w2=Q[i-3]\n",
    "    w3=Q[i-2]\n",
    "    w4=Q[i-1]\n",
    "    wy=Q[i]\n",
    "    line=w1+' '+w2+' '+w3+' '+w4\n",
    "    xtr.append(line)\n",
    "    ytr.append(wy)"
   ]
  },
  {
   "cell_type": "code",
   "execution_count": 7,
   "metadata": {},
   "outputs": [
    {
     "data": {
      "text/plain": [
       "454"
      ]
     },
     "execution_count": 7,
     "metadata": {},
     "output_type": "execute_result"
    }
   ],
   "source": [
    "len(xtr)"
   ]
  },
  {
   "cell_type": "code",
   "execution_count": 8,
   "metadata": {},
   "outputs": [
    {
     "data": {
      "text/plain": [
       "454"
      ]
     },
     "execution_count": 8,
     "metadata": {},
     "output_type": "execute_result"
    }
   ],
   "source": [
    "len(ytr)"
   ]
  },
  {
   "cell_type": "markdown",
   "metadata": {},
   "source": [
    "# Finding Unique words"
   ]
  },
  {
   "cell_type": "code",
   "execution_count": 9,
   "metadata": {},
   "outputs": [],
   "source": [
    "from numpy import unique\n",
    "unique_words=unique(Q)"
   ]
  },
  {
   "cell_type": "markdown",
   "metadata": {},
   "source": [
    "# Changing training data into X and Y format"
   ]
  },
  {
   "cell_type": "code",
   "execution_count": 10,
   "metadata": {},
   "outputs": [],
   "source": [
    "lines=len(xtr)\n",
    "uniques=len(unique_words)\n",
    "seq=4"
   ]
  },
  {
   "cell_type": "code",
   "execution_count": 11,
   "metadata": {},
   "outputs": [],
   "source": [
    "from numpy import zeros\n",
    "xtr_arr=zeros((lines,uniques,seq))\n",
    "ytr_arr=zeros((lines,uniques))"
   ]
  },
  {
   "cell_type": "markdown",
   "metadata": {},
   "source": [
    "# Indexing the lines and words"
   ]
  },
  {
   "cell_type": "code",
   "execution_count": 12,
   "metadata": {},
   "outputs": [],
   "source": [
    "line_enum=list(enumerate(xtr))\n",
    "unique_enum=list(enumerate(unique_words))"
   ]
  },
  {
   "cell_type": "code",
   "execution_count": 13,
   "metadata": {},
   "outputs": [],
   "source": [
    "#lookup operation for finding the index of word\n",
    "position_finder={}\n",
    "for i,j in unique_enum:\n",
    "    position_finder[j]=i"
   ]
  },
  {
   "cell_type": "code",
   "execution_count": 14,
   "metadata": {},
   "outputs": [
    {
     "data": {
      "text/plain": [
       "227"
      ]
     },
     "execution_count": 14,
     "metadata": {},
     "output_type": "execute_result"
    }
   ],
   "source": [
    "position_finder['THE']"
   ]
  },
  {
   "cell_type": "code",
   "execution_count": 15,
   "metadata": {},
   "outputs": [
    {
     "data": {
      "text/plain": [
       "(5, 'SHERLOCK HOLMES BY ARTHUR')"
      ]
     },
     "execution_count": 15,
     "metadata": {},
     "output_type": "execute_result"
    }
   ],
   "source": [
    "line_enum[5]"
   ]
  },
  {
   "cell_type": "code",
   "execution_count": 16,
   "metadata": {},
   "outputs": [],
   "source": [
    "#creating 3D array (X)\n",
    "for line_no,line in line_enum:\n",
    "    for seq,word in enumerate(line.split(' ')):\n",
    "        xtr_arr[line_no,position_finder[word],seq]=1"
   ]
  },
  {
   "cell_type": "code",
   "execution_count": 17,
   "metadata": {},
   "outputs": [],
   "source": [
    "position=position_finder['BY']"
   ]
  },
  {
   "cell_type": "code",
   "execution_count": 18,
   "metadata": {},
   "outputs": [],
   "source": [
    "#Creating Y array\n",
    "for i,j in enumerate(ytr):\n",
    "    pos=position_finder[j]\n",
    "    ytr_arr[i,pos]=1"
   ]
  },
  {
   "cell_type": "code",
   "execution_count": 19,
   "metadata": {},
   "outputs": [
    {
     "data": {
      "text/plain": [
       "(454, 267, 4)"
      ]
     },
     "execution_count": 19,
     "metadata": {},
     "output_type": "execute_result"
    }
   ],
   "source": [
    "xtr_arr.shape"
   ]
  },
  {
   "cell_type": "code",
   "execution_count": 20,
   "metadata": {},
   "outputs": [
    {
     "data": {
      "text/plain": [
       "(267, 4)"
      ]
     },
     "execution_count": 20,
     "metadata": {},
     "output_type": "execute_result"
    }
   ],
   "source": [
    "SHAPE=xtr_arr.shape[1:3]\n",
    "SHAPE"
   ]
  },
  {
   "cell_type": "code",
   "execution_count": 21,
   "metadata": {},
   "outputs": [],
   "source": [
    "hidden_neurons=SHAPE[0]"
   ]
  },
  {
   "cell_type": "code",
   "execution_count": 22,
   "metadata": {},
   "outputs": [
    {
     "data": {
      "text/plain": [
       "267"
      ]
     },
     "execution_count": 22,
     "metadata": {},
     "output_type": "execute_result"
    }
   ],
   "source": [
    "uniques"
   ]
  },
  {
   "cell_type": "markdown",
   "metadata": {},
   "source": [
    "# Recurrent Neural Network"
   ]
  },
  {
   "cell_type": "code",
   "execution_count": 23,
   "metadata": {},
   "outputs": [],
   "source": [
    "from keras.layers import Dense,Dropout,LSTM\n",
    "from keras.models import Sequential"
   ]
  },
  {
   "cell_type": "code",
   "execution_count": 24,
   "metadata": {},
   "outputs": [
    {
     "name": "stdout",
     "output_type": "stream",
     "text": [
      "Epoch 1/300\n",
      "15/15 [==============================] - 8s 267ms/step - loss: 5.5576\n",
      "Epoch 2/300\n",
      "15/15 [==============================] - 4s 283ms/step - loss: 5.3109\n",
      "Epoch 3/300\n",
      "15/15 [==============================] - 4s 270ms/step - loss: 5.2236\n",
      "Epoch 4/300\n",
      "15/15 [==============================] - 3s 183ms/step - loss: 5.1928\n",
      "Epoch 5/300\n",
      "15/15 [==============================] - 3s 204ms/step - loss: 5.1782\n",
      "Epoch 6/300\n",
      "15/15 [==============================] - 3s 172ms/step - loss: 5.1691\n",
      "Epoch 7/300\n",
      "15/15 [==============================] - 3s 169ms/step - loss: 5.1621\n",
      "Epoch 8/300\n",
      "15/15 [==============================] - 4s 242ms/step - loss: 5.1578\n",
      "Epoch 9/300\n",
      "15/15 [==============================] - 4s 255ms/step - loss: 5.1555\n",
      "Epoch 10/300\n",
      "15/15 [==============================] - 3s 209ms/step - loss: 5.1535\n",
      "Epoch 11/300\n",
      "15/15 [==============================] - 2s 151ms/step - loss: 5.1527\n",
      "Epoch 12/300\n",
      "15/15 [==============================] - 3s 177ms/step - loss: 5.1511\n",
      "Epoch 13/300\n",
      "15/15 [==============================] - 3s 177ms/step - loss: 5.1494\n",
      "Epoch 14/300\n",
      "15/15 [==============================] - 3s 193ms/step - loss: 5.1497\n",
      "Epoch 15/300\n",
      "15/15 [==============================] - 3s 167ms/step - loss: 5.1466\n",
      "Epoch 16/300\n",
      "15/15 [==============================] - 3s 234ms/step - loss: 5.1483\n",
      "Epoch 17/300\n",
      "15/15 [==============================] - 4s 239ms/step - loss: 5.1472\n",
      "Epoch 18/300\n",
      "15/15 [==============================] - 2s 157ms/step - loss: 5.1447\n",
      "Epoch 19/300\n",
      "15/15 [==============================] - 3s 199ms/step - loss: 5.1459\n",
      "Epoch 20/300\n",
      "15/15 [==============================] - 3s 208ms/step - loss: 5.1464\n",
      "Epoch 21/300\n",
      "15/15 [==============================] - 3s 173ms/step - loss: 5.1453\n",
      "Epoch 22/300\n",
      "15/15 [==============================] - 3s 214ms/step - loss: 5.1435\n",
      "Epoch 23/300\n",
      "15/15 [==============================] - 4s 265ms/step - loss: 5.1430\n",
      "Epoch 24/300\n",
      "15/15 [==============================] - 3s 227ms/step - loss: 5.1434\n",
      "Epoch 25/300\n",
      "15/15 [==============================] - 3s 211ms/step - loss: 5.1428\n",
      "Epoch 26/300\n",
      "15/15 [==============================] - 4s 255ms/step - loss: 5.1419\n",
      "Epoch 27/300\n",
      "15/15 [==============================] - 4s 264ms/step - loss: 5.1431\n",
      "Epoch 28/300\n",
      "15/15 [==============================] - 4s 251ms/step - loss: 5.1414\n",
      "Epoch 29/300\n",
      "15/15 [==============================] - 3s 204ms/step - loss: 5.1410\n",
      "Epoch 30/300\n",
      "15/15 [==============================] - 3s 180ms/step - loss: 5.1403\n",
      "Epoch 31/300\n",
      "15/15 [==============================] - 3s 166ms/step - loss: 5.1413\n",
      "Epoch 32/300\n",
      "15/15 [==============================] - 3s 175ms/step - loss: 5.1397\n",
      "Epoch 33/300\n",
      "15/15 [==============================] - 3s 169ms/step - loss: 5.1400\n",
      "Epoch 34/300\n",
      "15/15 [==============================] - 2s 157ms/step - loss: 5.1391\n",
      "Epoch 35/300\n",
      "15/15 [==============================] - 2s 96ms/step - loss: 5.1396\n",
      "Epoch 36/300\n",
      "15/15 [==============================] - 2s 103ms/step - loss: 5.1380\n",
      "Epoch 37/300\n",
      "15/15 [==============================] - 2s 134ms/step - loss: 5.1409\n",
      "Epoch 38/300\n",
      "15/15 [==============================] - 3s 170ms/step - loss: 5.1377\n",
      "Epoch 39/300\n",
      "15/15 [==============================] - 2s 161ms/step - loss: 5.1356\n",
      "Epoch 40/300\n",
      "15/15 [==============================] - 3s 169ms/step - loss: 5.1380\n",
      "Epoch 41/300\n",
      "15/15 [==============================] - 2s 154ms/step - loss: 5.1345\n",
      "Epoch 42/300\n",
      "15/15 [==============================] - 2s 131ms/step - loss: 5.1350\n",
      "Epoch 43/300\n",
      "15/15 [==============================] - 2s 161ms/step - loss: 5.1359\n",
      "Epoch 44/300\n",
      "15/15 [==============================] - 2s 126ms/step - loss: 5.1345\n",
      "Epoch 45/300\n",
      "15/15 [==============================] - 2s 137ms/step - loss: 5.1357\n",
      "Epoch 46/300\n",
      "15/15 [==============================] - 3s 168ms/step - loss: 5.1348\n",
      "Epoch 47/300\n",
      "15/15 [==============================] - 3s 167ms/step - loss: 5.1330\n",
      "Epoch 48/300\n",
      "15/15 [==============================] - 2s 163ms/step - loss: 5.1337\n",
      "Epoch 49/300\n",
      "15/15 [==============================] - 2s 136ms/step - loss: 5.1317\n",
      "Epoch 50/300\n",
      "15/15 [==============================] - 3s 180ms/step - loss: 5.1308\n",
      "Epoch 51/300\n",
      "15/15 [==============================] - 3s 185ms/step - loss: 5.1312\n",
      "Epoch 52/300\n",
      "15/15 [==============================] - 2s 139ms/step - loss: 5.1299\n",
      "Epoch 53/300\n",
      "15/15 [==============================] - 2s 142ms/step - loss: 5.1275\n",
      "Epoch 54/300\n",
      "15/15 [==============================] - 2s 157ms/step - loss: 5.1278\n",
      "Epoch 55/300\n",
      "15/15 [==============================] - 2s 129ms/step - loss: 5.1259\n",
      "Epoch 56/300\n",
      "15/15 [==============================] - 2s 131ms/step - loss: 5.1248\n",
      "Epoch 57/300\n",
      "15/15 [==============================] - 2s 149ms/step - loss: 5.1257\n",
      "Epoch 58/300\n",
      "15/15 [==============================] - 2s 149ms/step - loss: 5.1224\n",
      "Epoch 59/300\n",
      "15/15 [==============================] - 2s 163ms/step - loss: 5.1209\n",
      "Epoch 60/300\n",
      "15/15 [==============================] - 2s 160ms/step - loss: 5.1152\n",
      "Epoch 61/300\n",
      "15/15 [==============================] - 2s 160ms/step - loss: 5.1188\n",
      "Epoch 62/300\n",
      "15/15 [==============================] - 3s 167ms/step - loss: 5.1147\n",
      "Epoch 63/300\n",
      "15/15 [==============================] - 2s 163ms/step - loss: 5.1180\n",
      "Epoch 64/300\n",
      "15/15 [==============================] - 2s 161ms/step - loss: 5.1073\n",
      "Epoch 65/300\n",
      "15/15 [==============================] - 2s 153ms/step - loss: 5.1048\n",
      "Epoch 66/300\n",
      "15/15 [==============================] - 2s 165ms/step - loss: 5.1050\n",
      "Epoch 67/300\n",
      "15/15 [==============================] - 2s 163ms/step - loss: 5.0861\n",
      "Epoch 68/300\n",
      "15/15 [==============================] - 2s 164ms/step - loss: 5.0851\n",
      "Epoch 69/300\n",
      "15/15 [==============================] - 2s 159ms/step - loss: 5.0874\n",
      "Epoch 70/300\n",
      "15/15 [==============================] - 2s 164ms/step - loss: 5.0652\n",
      "Epoch 71/300\n",
      "15/15 [==============================] - 3s 169ms/step - loss: 5.0675\n",
      "Epoch 72/300\n",
      "15/15 [==============================] - 3s 169ms/step - loss: 5.0479\n",
      "Epoch 73/300\n",
      "15/15 [==============================] - 2s 163ms/step - loss: 5.0558\n",
      "Epoch 74/300\n",
      "15/15 [==============================] - 2s 166ms/step - loss: 5.0417\n",
      "Epoch 75/300\n",
      "15/15 [==============================] - 3s 171ms/step - loss: 5.0320\n",
      "Epoch 76/300\n",
      "15/15 [==============================] - 2s 160ms/step - loss: 5.0275\n",
      "Epoch 77/300\n",
      "15/15 [==============================] - 2s 158ms/step - loss: 5.0448\n",
      "Epoch 78/300\n",
      "15/15 [==============================] - 2s 158ms/step - loss: 5.0284\n",
      "Epoch 79/300\n",
      "15/15 [==============================] - 2s 162ms/step - loss: 5.0111\n",
      "Epoch 80/300\n",
      "15/15 [==============================] - 3s 167ms/step - loss: 4.9915\n",
      "Epoch 81/300\n",
      "15/15 [==============================] - 2s 161ms/step - loss: 4.9979\n",
      "Epoch 82/300\n",
      "15/15 [==============================] - 2s 164ms/step - loss: 4.9941\n",
      "Epoch 83/300\n",
      "15/15 [==============================] - 2s 151ms/step - loss: 4.9782\n",
      "Epoch 84/300\n",
      "15/15 [==============================] - 2s 164ms/step - loss: 4.9605\n",
      "Epoch 85/300\n",
      "15/15 [==============================] - 2s 162ms/step - loss: 4.9489\n",
      "Epoch 86/300\n",
      "15/15 [==============================] - 2s 164ms/step - loss: 4.9215\n",
      "Epoch 87/300\n",
      "15/15 [==============================] - 2s 142ms/step - loss: 4.9586\n",
      "Epoch 88/300\n",
      "15/15 [==============================] - 2s 156ms/step - loss: 4.9681\n",
      "Epoch 89/300\n",
      "15/15 [==============================] - 2s 157ms/step - loss: 4.9541\n",
      "Epoch 90/300\n",
      "15/15 [==============================] - 2s 160ms/step - loss: 4.8936\n",
      "Epoch 91/300\n",
      "15/15 [==============================] - 2s 166ms/step - loss: 4.8899\n",
      "Epoch 92/300\n",
      "15/15 [==============================] - 2s 166ms/step - loss: 4.9237\n",
      "Epoch 93/300\n",
      "15/15 [==============================] - 2s 162ms/step - loss: 4.8961\n",
      "Epoch 94/300\n",
      "15/15 [==============================] - 2s 135ms/step - loss: 4.8645\n",
      "Epoch 95/300\n",
      "15/15 [==============================] - 2s 130ms/step - loss: 4.8375\n",
      "Epoch 96/300\n",
      "15/15 [==============================] - 2s 134ms/step - loss: 4.8409\n",
      "Epoch 97/300\n",
      "15/15 [==============================] - 2s 162ms/step - loss: 4.8291\n",
      "Epoch 98/300\n",
      "15/15 [==============================] - 3s 175ms/step - loss: 4.8188\n",
      "Epoch 99/300\n",
      "15/15 [==============================] - 3s 166ms/step - loss: 4.8268\n",
      "Epoch 100/300\n",
      "15/15 [==============================] - 2s 139ms/step - loss: 4.8220\n",
      "Epoch 101/300\n",
      "15/15 [==============================] - 2s 106ms/step - loss: 4.7871\n",
      "Epoch 102/300\n",
      "15/15 [==============================] - 2s 145ms/step - loss: 4.7936\n",
      "Epoch 103/300\n",
      "15/15 [==============================] - 2s 134ms/step - loss: 4.7802\n",
      "Epoch 104/300\n",
      "15/15 [==============================] - 2s 145ms/step - loss: 4.7234\n",
      "Epoch 105/300\n",
      "15/15 [==============================] - 2s 101ms/step - loss: 4.7739\n",
      "Epoch 106/300\n",
      "15/15 [==============================] - 2s 121ms/step - loss: 4.7472\n",
      "Epoch 107/300\n",
      "15/15 [==============================] - 2s 117ms/step - loss: 4.7029\n",
      "Epoch 108/300\n",
      "15/15 [==============================] - 2s 127ms/step - loss: 4.7107\n",
      "Epoch 109/300\n",
      "15/15 [==============================] - 2s 142ms/step - loss: 4.6989\n",
      "Epoch 110/300\n",
      "15/15 [==============================] - 2s 103ms/step - loss: 4.6990\n",
      "Epoch 111/300\n",
      "15/15 [==============================] - 2s 111ms/step - loss: 4.6851\n",
      "Epoch 112/300\n",
      "15/15 [==============================] - 2s 130ms/step - loss: 4.6626\n",
      "Epoch 113/300\n",
      "15/15 [==============================] - 2s 162ms/step - loss: 4.6699\n",
      "Epoch 114/300\n",
      "15/15 [==============================] - 2s 161ms/step - loss: 4.9355\n",
      "Epoch 115/300\n",
      "15/15 [==============================] - 2s 154ms/step - loss: 4.6342\n",
      "Epoch 116/300\n",
      "15/15 [==============================] - 2s 150ms/step - loss: 4.6319\n",
      "Epoch 117/300\n",
      "15/15 [==============================] - 2s 160ms/step - loss: 4.5896\n",
      "Epoch 118/300\n",
      "15/15 [==============================] - 2s 165ms/step - loss: 4.6212\n",
      "Epoch 119/300\n",
      "15/15 [==============================] - 2s 157ms/step - loss: 4.6063\n",
      "Epoch 120/300\n",
      "15/15 [==============================] - 2s 162ms/step - loss: 4.5728\n",
      "Epoch 121/300\n",
      "15/15 [==============================] - 3s 167ms/step - loss: 4.5496\n",
      "Epoch 122/300\n",
      "15/15 [==============================] - 3s 173ms/step - loss: 4.5544\n",
      "Epoch 123/300\n",
      "15/15 [==============================] - 2s 162ms/step - loss: 4.5532\n",
      "Epoch 124/300\n",
      "15/15 [==============================] - 2s 166ms/step - loss: 4.5344\n",
      "Epoch 125/300\n",
      "15/15 [==============================] - 2s 160ms/step - loss: 4.4860\n",
      "Epoch 126/300\n",
      "15/15 [==============================] - 2s 158ms/step - loss: 4.4991\n",
      "Epoch 127/300\n",
      "15/15 [==============================] - 3s 167ms/step - loss: 4.5432\n",
      "Epoch 128/300\n",
      "15/15 [==============================] - 2s 164ms/step - loss: 4.5033\n",
      "Epoch 129/300\n",
      "15/15 [==============================] - 2s 162ms/step - loss: 4.4594\n",
      "Epoch 130/300\n",
      "15/15 [==============================] - 2s 165ms/step - loss: 4.4555\n",
      "Epoch 131/300\n",
      "15/15 [==============================] - 2s 154ms/step - loss: 4.4496\n",
      "Epoch 132/300\n",
      "15/15 [==============================] - 2s 163ms/step - loss: 4.4564\n",
      "Epoch 133/300\n",
      "15/15 [==============================] - 2s 164ms/step - loss: 4.4202\n",
      "Epoch 134/300\n",
      "15/15 [==============================] - 2s 158ms/step - loss: 4.4638\n",
      "Epoch 135/300\n",
      "15/15 [==============================] - 2s 155ms/step - loss: 4.4061\n",
      "Epoch 136/300\n",
      "15/15 [==============================] - 2s 150ms/step - loss: 4.7171\n",
      "Epoch 137/300\n",
      "15/15 [==============================] - 2s 162ms/step - loss: 4.3938\n",
      "Epoch 138/300\n",
      "15/15 [==============================] - 2s 154ms/step - loss: 4.4458\n",
      "Epoch 139/300\n",
      "15/15 [==============================] - 2s 162ms/step - loss: 4.6940\n",
      "Epoch 140/300\n",
      "15/15 [==============================] - 2s 158ms/step - loss: 4.3452\n",
      "Epoch 141/300\n",
      "15/15 [==============================] - 2s 165ms/step - loss: 4.3640\n",
      "Epoch 142/300\n",
      "15/15 [==============================] - 2s 161ms/step - loss: 4.3587\n",
      "Epoch 143/300\n",
      "15/15 [==============================] - 2s 164ms/step - loss: 4.3879\n",
      "Epoch 144/300\n",
      "15/15 [==============================] - 2s 162ms/step - loss: 4.3244\n",
      "Epoch 145/300\n",
      "15/15 [==============================] - 2s 121ms/step - loss: 4.3439\n",
      "Epoch 146/300\n",
      "15/15 [==============================] - 1s 83ms/step - loss: 4.3319\n",
      "Epoch 147/300\n",
      "15/15 [==============================] - 1s 87ms/step - loss: 4.2737\n",
      "Epoch 148/300\n",
      "15/15 [==============================] - 2s 161ms/step - loss: 4.2569\n",
      "Epoch 149/300\n",
      "15/15 [==============================] - 2s 158ms/step - loss: 4.2644\n",
      "Epoch 150/300\n",
      "15/15 [==============================] - 2s 164ms/step - loss: 4.3032\n",
      "Epoch 151/300\n",
      "15/15 [==============================] - 2s 159ms/step - loss: 4.2245\n",
      "Epoch 152/300\n",
      "15/15 [==============================] - 2s 151ms/step - loss: 4.2662\n",
      "Epoch 153/300\n",
      "15/15 [==============================] - 2s 148ms/step - loss: 4.2518\n",
      "Epoch 154/300\n",
      "15/15 [==============================] - 2s 150ms/step - loss: 4.2623\n",
      "Epoch 155/300\n",
      "15/15 [==============================] - 2s 145ms/step - loss: 4.2724\n",
      "Epoch 156/300\n",
      "15/15 [==============================] - 2s 148ms/step - loss: 4.1590\n",
      "Epoch 157/300\n",
      "15/15 [==============================] - 2s 161ms/step - loss: 4.1969\n",
      "Epoch 158/300\n",
      "15/15 [==============================] - 2s 160ms/step - loss: 4.1913\n",
      "Epoch 159/300\n",
      "15/15 [==============================] - 2s 165ms/step - loss: 4.1729\n",
      "Epoch 160/300\n",
      "15/15 [==============================] - 3s 167ms/step - loss: 5.7429\n",
      "Epoch 161/300\n",
      "15/15 [==============================] - 2s 164ms/step - loss: 5.6421\n",
      "Epoch 162/300\n",
      "15/15 [==============================] - 3s 168ms/step - loss: 4.8019\n",
      "Epoch 163/300\n",
      "15/15 [==============================] - 3s 173ms/step - loss: 4.4467\n",
      "Epoch 164/300\n",
      "15/15 [==============================] - 3s 170ms/step - loss: 4.3578\n",
      "Epoch 165/300\n",
      "15/15 [==============================] - 2s 155ms/step - loss: 4.2008\n",
      "Epoch 166/300\n",
      "15/15 [==============================] - 2s 160ms/step - loss: 4.1786\n",
      "Epoch 167/300\n",
      "15/15 [==============================] - 3s 167ms/step - loss: 4.1928\n",
      "Epoch 168/300\n",
      "15/15 [==============================] - 2s 160ms/step - loss: 5.4511\n",
      "Epoch 169/300\n",
      "15/15 [==============================] - 2s 162ms/step - loss: 5.3625\n",
      "Epoch 170/300\n",
      "15/15 [==============================] - 2s 163ms/step - loss: 5.1769\n",
      "Epoch 171/300\n",
      "15/15 [==============================] - 2s 158ms/step - loss: 4.8661\n",
      "Epoch 172/300\n",
      "15/15 [==============================] - 3s 168ms/step - loss: 4.3061\n",
      "Epoch 173/300\n",
      "15/15 [==============================] - 3s 169ms/step - loss: 4.1649\n",
      "Epoch 174/300\n",
      "15/15 [==============================] - 3s 170ms/step - loss: 4.1729\n",
      "Epoch 175/300\n",
      "15/15 [==============================] - 3s 171ms/step - loss: 4.2056\n",
      "Epoch 176/300\n",
      "15/15 [==============================] - 2s 160ms/step - loss: 4.1785\n",
      "Epoch 177/300\n",
      "15/15 [==============================] - 2s 155ms/step - loss: 4.1553\n",
      "Epoch 178/300\n",
      "15/15 [==============================] - 3s 194ms/step - loss: 4.2141\n",
      "Epoch 179/300\n",
      "15/15 [==============================] - 2s 158ms/step - loss: 4.1512\n",
      "Epoch 180/300\n",
      "15/15 [==============================] - 2s 164ms/step - loss: 4.5014\n",
      "Epoch 181/300\n",
      "15/15 [==============================] - 2s 161ms/step - loss: 4.1613\n",
      "Epoch 182/300\n",
      "15/15 [==============================] - 2s 160ms/step - loss: 4.0704\n",
      "Epoch 183/300\n",
      "15/15 [==============================] - 2s 152ms/step - loss: 4.1202\n",
      "Epoch 184/300\n",
      "15/15 [==============================] - 2s 162ms/step - loss: 4.3617\n",
      "Epoch 185/300\n",
      "15/15 [==============================] - 2s 157ms/step - loss: 4.0448\n",
      "Epoch 186/300\n",
      "15/15 [==============================] - 2s 162ms/step - loss: 4.0526\n",
      "Epoch 187/300\n",
      "15/15 [==============================] - 2s 163ms/step - loss: 4.1189\n",
      "Epoch 188/300\n",
      "15/15 [==============================] - 2s 165ms/step - loss: 4.0152\n",
      "Epoch 189/300\n",
      "15/15 [==============================] - 2s 165ms/step - loss: 4.0347\n",
      "Epoch 190/300\n",
      "15/15 [==============================] - 3s 167ms/step - loss: 4.0061\n",
      "Epoch 191/300\n",
      "15/15 [==============================] - 2s 161ms/step - loss: 4.1267\n",
      "Epoch 192/300\n",
      "15/15 [==============================] - 2s 164ms/step - loss: 3.9627\n",
      "Epoch 193/300\n",
      "15/15 [==============================] - 3s 167ms/step - loss: 4.1285\n",
      "Epoch 194/300\n",
      "15/15 [==============================] - 2s 165ms/step - loss: 3.9255\n",
      "Epoch 195/300\n",
      "15/15 [==============================] - 3s 172ms/step - loss: 3.9445\n",
      "Epoch 196/300\n"
     ]
    },
    {
     "name": "stdout",
     "output_type": "stream",
     "text": [
      "15/15 [==============================] - 2s 155ms/step - loss: 3.9342\n",
      "Epoch 197/300\n",
      "15/15 [==============================] - 2s 142ms/step - loss: 3.9207\n",
      "Epoch 198/300\n",
      "15/15 [==============================] - 2s 151ms/step - loss: 4.9907\n",
      "Epoch 199/300\n",
      "15/15 [==============================] - 2s 147ms/step - loss: 4.5027\n",
      "Epoch 200/300\n",
      "15/15 [==============================] - 2s 159ms/step - loss: 4.0238\n",
      "Epoch 201/300\n",
      "15/15 [==============================] - 2s 151ms/step - loss: 3.8871\n",
      "Epoch 202/300\n",
      "15/15 [==============================] - 2s 149ms/step - loss: 3.8393\n",
      "Epoch 203/300\n",
      "15/15 [==============================] - 2s 165ms/step - loss: 3.9941\n",
      "Epoch 204/300\n",
      "15/15 [==============================] - 2s 164ms/step - loss: 3.9605\n",
      "Epoch 205/300\n",
      "15/15 [==============================] - 2s 158ms/step - loss: 3.8693\n",
      "Epoch 206/300\n",
      "15/15 [==============================] - 2s 154ms/step - loss: 3.8964\n",
      "Epoch 207/300\n",
      "15/15 [==============================] - 3s 169ms/step - loss: 4.0074\n",
      "Epoch 208/300\n",
      "15/15 [==============================] - 2s 166ms/step - loss: 3.8278\n",
      "Epoch 209/300\n",
      "15/15 [==============================] - 2s 162ms/step - loss: 3.8457\n",
      "Epoch 210/300\n",
      "15/15 [==============================] - 2s 164ms/step - loss: 3.8142\n",
      "Epoch 211/300\n",
      "15/15 [==============================] - 3s 168ms/step - loss: 3.7939\n",
      "Epoch 212/300\n",
      "15/15 [==============================] - 2s 161ms/step - loss: 3.9248\n",
      "Epoch 213/300\n",
      "15/15 [==============================] - 2s 126ms/step - loss: 3.7556\n",
      "Epoch 214/300\n",
      "15/15 [==============================] - 3s 168ms/step - loss: 4.2051\n",
      "Epoch 215/300\n",
      "15/15 [==============================] - 2s 163ms/step - loss: 3.7929\n",
      "Epoch 216/300\n",
      "15/15 [==============================] - 2s 158ms/step - loss: 3.7308\n",
      "Epoch 217/300\n",
      "15/15 [==============================] - 2s 161ms/step - loss: 4.3009\n",
      "Epoch 218/300\n",
      "15/15 [==============================] - 3s 170ms/step - loss: 3.7807\n",
      "Epoch 219/300\n",
      "15/15 [==============================] - 2s 160ms/step - loss: 3.8630\n",
      "Epoch 220/300\n",
      "15/15 [==============================] - 2s 162ms/step - loss: 3.7605\n",
      "Epoch 221/300\n",
      "15/15 [==============================] - 3s 169ms/step - loss: 3.8477\n",
      "Epoch 222/300\n",
      "15/15 [==============================] - 2s 166ms/step - loss: 4.1448\n",
      "Epoch 223/300\n",
      "15/15 [==============================] - 2s 149ms/step - loss: 4.0314\n",
      "Epoch 224/300\n",
      "15/15 [==============================] - 2s 157ms/step - loss: 3.9846\n",
      "Epoch 225/300\n",
      "15/15 [==============================] - 2s 148ms/step - loss: 3.7011\n",
      "Epoch 226/300\n",
      "15/15 [==============================] - 2s 144ms/step - loss: 3.8130\n",
      "Epoch 227/300\n",
      "15/15 [==============================] - 2s 151ms/step - loss: 3.7070\n",
      "Epoch 228/300\n",
      "15/15 [==============================] - 2s 161ms/step - loss: 3.7054\n",
      "Epoch 229/300\n",
      "15/15 [==============================] - 2s 154ms/step - loss: 3.6568\n",
      "Epoch 230/300\n",
      "15/15 [==============================] - 2s 162ms/step - loss: 5.4084\n",
      "Epoch 231/300\n",
      "15/15 [==============================] - 2s 163ms/step - loss: 5.4752\n",
      "Epoch 232/300\n",
      "15/15 [==============================] - 3s 169ms/step - loss: 4.8512\n",
      "Epoch 233/300\n",
      "15/15 [==============================] - 2s 165ms/step - loss: 4.3140\n",
      "Epoch 234/300\n",
      "15/15 [==============================] - 2s 161ms/step - loss: 3.7681\n",
      "Epoch 235/300\n",
      "15/15 [==============================] - 2s 161ms/step - loss: 3.8797\n",
      "Epoch 236/300\n",
      "15/15 [==============================] - 2s 164ms/step - loss: 3.7354\n",
      "Epoch 237/300\n",
      "15/15 [==============================] - 2s 167ms/step - loss: 3.6879\n",
      "Epoch 238/300\n",
      "15/15 [==============================] - 2s 159ms/step - loss: 3.6904\n",
      "Epoch 239/300\n",
      "15/15 [==============================] - 2s 161ms/step - loss: 3.6719\n",
      "Epoch 240/300\n",
      "15/15 [==============================] - 2s 163ms/step - loss: 3.8507\n",
      "Epoch 241/300\n",
      "15/15 [==============================] - 2s 158ms/step - loss: 3.6420\n",
      "Epoch 242/300\n",
      "15/15 [==============================] - 2s 163ms/step - loss: 3.6153\n",
      "Epoch 243/300\n",
      "15/15 [==============================] - 2s 154ms/step - loss: 3.6335\n",
      "Epoch 244/300\n",
      "15/15 [==============================] - 2s 157ms/step - loss: 3.6230\n",
      "Epoch 245/300\n",
      "15/15 [==============================] - 2s 149ms/step - loss: 3.7549\n",
      "Epoch 246/300\n",
      "15/15 [==============================] - 3s 168ms/step - loss: 3.5416\n",
      "Epoch 247/300\n",
      "15/15 [==============================] - 2s 164ms/step - loss: 3.5838\n",
      "Epoch 248/300\n",
      "15/15 [==============================] - 2s 166ms/step - loss: 3.5834\n",
      "Epoch 249/300\n",
      "15/15 [==============================] - 2s 166ms/step - loss: 3.5854\n",
      "Epoch 250/300\n",
      "15/15 [==============================] - 3s 168ms/step - loss: 4.1573\n",
      "Epoch 251/300\n",
      "15/15 [==============================] - 3s 168ms/step - loss: 3.5967\n",
      "Epoch 252/300\n",
      "15/15 [==============================] - 3s 170ms/step - loss: 3.7876\n",
      "Epoch 253/300\n",
      "15/15 [==============================] - 2s 162ms/step - loss: 3.5783\n",
      "Epoch 254/300\n",
      "15/15 [==============================] - 2s 162ms/step - loss: 3.5018\n",
      "Epoch 255/300\n",
      "15/15 [==============================] - 3s 172ms/step - loss: 3.5123\n",
      "Epoch 256/300\n",
      "15/15 [==============================] - 3s 169ms/step - loss: 3.4901\n",
      "Epoch 257/300\n",
      "15/15 [==============================] - 2s 159ms/step - loss: 3.5039\n",
      "Epoch 258/300\n",
      "15/15 [==============================] - 2s 162ms/step - loss: 3.6995\n",
      "Epoch 259/300\n",
      "15/15 [==============================] - 3s 167ms/step - loss: 3.4493\n",
      "Epoch 260/300\n",
      "15/15 [==============================] - 2s 164ms/step - loss: 3.4320\n",
      "Epoch 261/300\n",
      "15/15 [==============================] - 2s 166ms/step - loss: 3.4906\n",
      "Epoch 262/300\n",
      "15/15 [==============================] - 3s 167ms/step - loss: 3.4960\n",
      "Epoch 263/300\n",
      "15/15 [==============================] - 3s 168ms/step - loss: 3.4281\n",
      "Epoch 264/300\n",
      "15/15 [==============================] - 2s 157ms/step - loss: 3.3923\n",
      "Epoch 265/300\n",
      "15/15 [==============================] - 2s 152ms/step - loss: 3.3886\n",
      "Epoch 266/300\n",
      "15/15 [==============================] - 2s 154ms/step - loss: 3.4081\n",
      "Epoch 267/300\n",
      "15/15 [==============================] - 2s 159ms/step - loss: 3.7774\n",
      "Epoch 268/300\n",
      "15/15 [==============================] - 2s 164ms/step - loss: 4.6096\n",
      "Epoch 269/300\n",
      "15/15 [==============================] - 2s 155ms/step - loss: 3.9714\n",
      "Epoch 270/300\n",
      "15/15 [==============================] - 2s 154ms/step - loss: 3.5741\n",
      "Epoch 271/300\n",
      "15/15 [==============================] - 2s 147ms/step - loss: 3.3164\n",
      "Epoch 272/300\n",
      "15/15 [==============================] - 2s 164ms/step - loss: 3.3621\n",
      "Epoch 273/300\n",
      "15/15 [==============================] - 2s 163ms/step - loss: 3.3678\n",
      "Epoch 274/300\n",
      "15/15 [==============================] - 2s 160ms/step - loss: 3.4698\n",
      "Epoch 275/300\n",
      "15/15 [==============================] - 2s 164ms/step - loss: 3.3281\n",
      "Epoch 276/300\n",
      "15/15 [==============================] - 2s 150ms/step - loss: 3.3491\n",
      "Epoch 277/300\n",
      "15/15 [==============================] - 2s 156ms/step - loss: 3.3442\n",
      "Epoch 278/300\n",
      "15/15 [==============================] - 2s 162ms/step - loss: 3.3738\n",
      "Epoch 279/300\n",
      "15/15 [==============================] - 2s 157ms/step - loss: 3.4119\n",
      "Epoch 280/300\n",
      "15/15 [==============================] - 2s 167ms/step - loss: 3.3757\n",
      "Epoch 281/300\n",
      "15/15 [==============================] - 2s 165ms/step - loss: 3.2798\n",
      "Epoch 282/300\n",
      "15/15 [==============================] - 2s 159ms/step - loss: 3.4536\n",
      "Epoch 283/300\n",
      "15/15 [==============================] - 2s 163ms/step - loss: 3.2378\n",
      "Epoch 284/300\n",
      "15/15 [==============================] - 2s 156ms/step - loss: 3.2545\n",
      "Epoch 285/300\n",
      "15/15 [==============================] - 2s 156ms/step - loss: 3.2468\n",
      "Epoch 286/300\n",
      "15/15 [==============================] - 3s 193ms/step - loss: 3.3217\n",
      "Epoch 287/300\n",
      "15/15 [==============================] - 2s 161ms/step - loss: 3.5313\n",
      "Epoch 288/300\n",
      "15/15 [==============================] - 2s 160ms/step - loss: 3.6103\n",
      "Epoch 289/300\n",
      "15/15 [==============================] - 2s 162ms/step - loss: 3.4675\n",
      "Epoch 290/300\n",
      "15/15 [==============================] - 2s 162ms/step - loss: 3.5307\n",
      "Epoch 291/300\n",
      "15/15 [==============================] - 2s 158ms/step - loss: 3.3113\n",
      "Epoch 292/300\n",
      "15/15 [==============================] - 2s 165ms/step - loss: 3.1983\n",
      "Epoch 293/300\n",
      "15/15 [==============================] - 2s 158ms/step - loss: 3.4565\n",
      "Epoch 294/300\n",
      "15/15 [==============================] - 3s 168ms/step - loss: 4.7249\n",
      "Epoch 295/300\n",
      "15/15 [==============================] - 2s 163ms/step - loss: 5.0715\n",
      "Epoch 296/300\n",
      "15/15 [==============================] - 3s 168ms/step - loss: 4.5789\n",
      "Epoch 297/300\n",
      "15/15 [==============================] - 2s 166ms/step - loss: 4.2422\n",
      "Epoch 298/300\n",
      "15/15 [==============================] - 3s 193ms/step - loss: 4.0810\n",
      "Epoch 299/300\n",
      "15/15 [==============================] - 3s 171ms/step - loss: 3.6280\n",
      "Epoch 300/300\n",
      "15/15 [==============================] - 3s 169ms/step - loss: 3.4871\n"
     ]
    }
   ],
   "source": [
    "nn=Sequential()\n",
    "nn.add(LSTM(50,input_shape=SHAPE))\n",
    "nn.add(Dense(hidden_neurons,activation='softmax'))\n",
    "nn.compile(loss='categorical_crossentropy')\n",
    "model=nn.fit(xtr_arr,ytr_arr,epochs=300)"
   ]
  },
  {
   "cell_type": "markdown",
   "metadata": {},
   "source": [
    "# Preparing data for output"
   ]
  },
  {
   "cell_type": "code",
   "execution_count": 25,
   "metadata": {},
   "outputs": [
    {
     "name": "stdout",
     "output_type": "stream",
     "text": [
      "Enter Sentence (4 words)PROJECT GUTENBERGS THE ADVENTURE\n"
     ]
    },
    {
     "data": {
      "text/plain": [
       "'PROJECT GUTENBERGS THE ADVENTURE'"
      ]
     },
     "execution_count": 25,
     "metadata": {},
     "output_type": "execute_result"
    }
   ],
   "source": [
    "user_input=input('Enter Sentence (4 words)')\n",
    "user_input.upper()\n",
    "\n"
   ]
  },
  {
   "cell_type": "code",
   "execution_count": 26,
   "metadata": {},
   "outputs": [],
   "source": [
    "inp_array=zeros((1,uniques,4))"
   ]
  },
  {
   "cell_type": "code",
   "execution_count": 27,
   "metadata": {},
   "outputs": [],
   "source": [
    "for word_no,word in enumerate(user_input.split(' ')):\n",
    "    inp_array[0,position_finder[word],word_no]=1"
   ]
  },
  {
   "cell_type": "code",
   "execution_count": 42,
   "metadata": {},
   "outputs": [
    {
     "data": {
      "text/html": [
       "<div>\n",
       "<style scoped>\n",
       "    .dataframe tbody tr th:only-of-type {\n",
       "        vertical-align: middle;\n",
       "    }\n",
       "\n",
       "    .dataframe tbody tr th {\n",
       "        vertical-align: top;\n",
       "    }\n",
       "\n",
       "    .dataframe thead th {\n",
       "        text-align: right;\n",
       "    }\n",
       "</style>\n",
       "<table border=\"1\" class=\"dataframe\">\n",
       "  <thead>\n",
       "    <tr style=\"text-align: right;\">\n",
       "      <th></th>\n",
       "      <th>Word</th>\n",
       "      <th>prob</th>\n",
       "    </tr>\n",
       "  </thead>\n",
       "  <tbody>\n",
       "    <tr>\n",
       "      <th>0</th>\n",
       "      <td>1661LAST</td>\n",
       "      <td>0.000197</td>\n",
       "    </tr>\n",
       "    <tr>\n",
       "      <th>1</th>\n",
       "      <td>20</td>\n",
       "      <td>0.000612</td>\n",
       "    </tr>\n",
       "    <tr>\n",
       "      <th>2</th>\n",
       "      <td>2002</td>\n",
       "      <td>0.000510</td>\n",
       "    </tr>\n",
       "    <tr>\n",
       "      <th>3</th>\n",
       "      <td>2019LANGUAGE</td>\n",
       "      <td>0.000231</td>\n",
       "    </tr>\n",
       "    <tr>\n",
       "      <th>4</th>\n",
       "      <td>29</td>\n",
       "      <td>0.000372</td>\n",
       "    </tr>\n",
       "    <tr>\n",
       "      <th>5</th>\n",
       "      <td>A</td>\n",
       "      <td>0.023375</td>\n",
       "    </tr>\n",
       "    <tr>\n",
       "      <th>6</th>\n",
       "      <td>ABHORRENT</td>\n",
       "      <td>0.000320</td>\n",
       "    </tr>\n",
       "    <tr>\n",
       "      <th>7</th>\n",
       "      <td>ABSORB</td>\n",
       "      <td>0.000644</td>\n",
       "    </tr>\n",
       "    <tr>\n",
       "      <th>8</th>\n",
       "      <td>ACTIONS</td>\n",
       "      <td>0.000212</td>\n",
       "    </tr>\n",
       "    <tr>\n",
       "      <th>9</th>\n",
       "      <td>ADLER</td>\n",
       "      <td>0.000074</td>\n",
       "    </tr>\n",
       "    <tr>\n",
       "      <th>10</th>\n",
       "      <td>ADMIRABLE</td>\n",
       "      <td>0.001524</td>\n",
       "    </tr>\n",
       "    <tr>\n",
       "      <th>11</th>\n",
       "      <td>ADMIRABLY</td>\n",
       "      <td>0.000173</td>\n",
       "    </tr>\n",
       "    <tr>\n",
       "      <th>12</th>\n",
       "      <td>ADMIT</td>\n",
       "      <td>0.000305</td>\n",
       "    </tr>\n",
       "    <tr>\n",
       "      <th>13</th>\n",
       "      <td>ADVENTURE</td>\n",
       "      <td>0.000116</td>\n",
       "    </tr>\n",
       "    <tr>\n",
       "      <th>14</th>\n",
       "      <td>ADVENTURES</td>\n",
       "      <td>0.000133</td>\n",
       "    </tr>\n",
       "    <tr>\n",
       "      <th>15</th>\n",
       "      <td>AFALSE</td>\n",
       "      <td>0.000566</td>\n",
       "    </tr>\n",
       "    <tr>\n",
       "      <th>16</th>\n",
       "      <td>ALL</td>\n",
       "      <td>0.002064</td>\n",
       "    </tr>\n",
       "    <tr>\n",
       "      <th>17</th>\n",
       "      <td>ALTERNATING</td>\n",
       "      <td>0.000401</td>\n",
       "    </tr>\n",
       "    <tr>\n",
       "      <th>18</th>\n",
       "      <td>ALWAYS</td>\n",
       "      <td>0.000552</td>\n",
       "    </tr>\n",
       "    <tr>\n",
       "      <th>19</th>\n",
       "      <td>AMBITIONTHE</td>\n",
       "      <td>0.000128</td>\n",
       "    </tr>\n",
       "  </tbody>\n",
       "</table>\n",
       "</div>"
      ],
      "text/plain": [
       "            Word      prob\n",
       "0       1661LAST  0.000197\n",
       "1             20  0.000612\n",
       "2           2002  0.000510\n",
       "3   2019LANGUAGE  0.000231\n",
       "4             29  0.000372\n",
       "5              A  0.023375\n",
       "6      ABHORRENT  0.000320\n",
       "7         ABSORB  0.000644\n",
       "8        ACTIONS  0.000212\n",
       "9          ADLER  0.000074\n",
       "10     ADMIRABLE  0.001524\n",
       "11     ADMIRABLY  0.000173\n",
       "12         ADMIT  0.000305\n",
       "13     ADVENTURE  0.000116\n",
       "14    ADVENTURES  0.000133\n",
       "15        AFALSE  0.000566\n",
       "16           ALL  0.002064\n",
       "17   ALTERNATING  0.000401\n",
       "18        ALWAYS  0.000552\n",
       "19   AMBITIONTHE  0.000128"
      ]
     },
     "execution_count": 42,
     "metadata": {},
     "output_type": "execute_result"
    }
   ],
   "source": [
    "import pandas as pd\n",
    "B=pd.DataFrame(zip(unique_words,list(nn.predict(inp_array)[0])),columns=['Word','prob'])\n",
    "B.head(20)"
   ]
  },
  {
   "cell_type": "code",
   "execution_count": 43,
   "metadata": {},
   "outputs": [],
   "source": [
    "\n",
    "x=B.prob.max()\n",
    "Predicted_Word=B[B.prob == x].Word.values[0]"
   ]
  },
  {
   "cell_type": "code",
   "execution_count": 31,
   "metadata": {},
   "outputs": [
    {
     "data": {
      "text/plain": [
       "'OF'"
      ]
     },
     "execution_count": 31,
     "metadata": {},
     "output_type": "execute_result"
    }
   ],
   "source": [
    "Predicted_Word"
   ]
  },
  {
   "cell_type": "markdown",
   "metadata": {},
   "source": [
    "#  Sentence and Predicted word"
   ]
  },
  {
   "cell_type": "code",
   "execution_count": 30,
   "metadata": {},
   "outputs": [
    {
     "name": "stdout",
     "output_type": "stream",
     "text": [
      "PROJECT GUTENBERGS THE ADVENTURE OF\n"
     ]
    }
   ],
   "source": [
    "print(user_input,Predicted_Word)"
   ]
  }
 ],
 "metadata": {
  "kernelspec": {
   "display_name": "Python 3",
   "language": "python",
   "name": "python3"
  },
  "language_info": {
   "codemirror_mode": {
    "name": "ipython",
    "version": 3
   },
   "file_extension": ".py",
   "mimetype": "text/x-python",
   "name": "python",
   "nbconvert_exporter": "python",
   "pygments_lexer": "ipython3",
   "version": "3.8.3"
  }
 },
 "nbformat": 4,
 "nbformat_minor": 4
}
